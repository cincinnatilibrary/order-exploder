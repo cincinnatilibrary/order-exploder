{
 "cells": [
  {
   "cell_type": "code",
   "execution_count": 1,
   "id": "9bc5f201-ee91-4866-9fc2-a9a40f69fc9f",
   "metadata": {
    "tags": []
   },
   "outputs": [],
   "source": [
    "# !pip install -U pandas altair sqlalchemy"
   ]
  },
  {
   "cell_type": "code",
   "execution_count": 2,
   "id": "22bd07e5-5ab5-4f06-90d2-5c428876ff19",
   "metadata": {},
   "outputs": [],
   "source": [
    "from sqlalchemy import create_engine\n",
    "import pandas as pd\n",
    "import altair as alt\n",
    "\n",
    "# for inline display\n",
    "from IPython.display import Image, HTML"
   ]
  },
  {
   "cell_type": "code",
   "execution_count": 4,
   "id": "43303084-5caa-4709-8a9b-2e9a7c41d7bd",
   "metadata": {},
   "outputs": [
    {
     "data": {
      "text/plain": [
       "'2022-02-03 10 AM'"
      ]
     },
     "execution_count": 4,
     "metadata": {},
     "output_type": "execute_result"
    }
   ],
   "source": []
  },
  {
   "cell_type": "code",
   "execution_count": 9,
   "id": "a0d3160f-bbca-4775-95ed-3a99fa2085ef",
   "metadata": {},
   "outputs": [
    {
     "data": {
      "text/html": [
       "<!DOCTYPE html>\n",
       "<html>\n",
       "<head>\n",
       "  <style>\n",
       "    .error {\n",
       "        color: red;\n",
       "    }\n",
       "  </style>\n",
       "  <script type=\"text/javascript\" src=\"https://cdn.jsdelivr.net/npm//vega@5\"></script>\n",
       "  <script type=\"text/javascript\" src=\"https://cdn.jsdelivr.net/npm//vega-lite@4.17.0\"></script>\n",
       "  <script type=\"text/javascript\" src=\"https://cdn.jsdelivr.net/npm//vega-embed@6\"></script>\n",
       "</head>\n",
       "<body>\n",
       "  <div id=\"vis\"></div>\n",
       "  <script>\n",
       "    (function(vegaEmbed) {\n",
       "      var spec = {\"config\": {\"view\": {\"continuousWidth\": 400, \"continuousHeight\": 300}, \"title\": {}}, \"data\": {\"name\": \"data-2176454c7cb3e2866b6df5a0390d9dda\"}, \"mark\": \"bar\", \"encoding\": {\"color\": {\"field\": \"fund use type\", \"type\": \"nominal\"}, \"tooltip\": [{\"field\": \"total_percent_fund_used\", \"type\": \"quantitative\"}, {\"field\": \"fund name / fund code\", \"type\": \"nominal\"}, {\"field\": \"appropriation\", \"type\": \"quantitative\"}, {\"field\": \"encumbrance\", \"type\": \"quantitative\"}, {\"field\": \"expenditure\", \"type\": \"quantitative\"}, {\"field\": \"fund use type\", \"type\": \"nominal\"}, {\"field\": \"percent\", \"type\": \"quantitative\"}], \"x\": {\"field\": \"percent\", \"type\": \"quantitative\"}, \"y\": {\"field\": \"fund name / fund code\", \"sort\": \"-x\", \"type\": \"nominal\"}}, \"title\": \"Fund Use ( as of 2022-02-03 10:00 AM )\", \"$schema\": \"https://vega.github.io/schema/vega-lite/v4.17.0.json\", \"datasets\": {\"data-2176454c7cb3e2866b6df5a0390d9dda\": [{\"total_percent_fund_used\": 0.0, \"fund name / fund code\": \"ABE B F GEN / abebfgen\", \"appropriation\": 200000, \"encumbrance\": 0, \"expenditure\": 0, \"fund use type\": \" expenditure % used\", \"percent\": 0.0}, {\"total_percent_fund_used\": 17.76, \"fund name / fund code\": \"AND B F AND / andbfand\", \"appropriation\": 99739, \"encumbrance\": 13671, \"expenditure\": 4039, \"fund use type\": \" expenditure % used\", \"percent\": 4.05}, {\"total_percent_fund_used\": 0.0, \"fund name / fund code\": \"DWY B F OUT / dwybfout\", \"appropriation\": 200000, \"encumbrance\": 0, \"expenditure\": 0, \"fund use type\": \" expenditure % used\", \"percent\": 0.0}, {\"total_percent_fund_used\": 14.17, \"fund name / fund code\": \"FEL B F ADU / felbfadu\", \"appropriation\": 233528, \"encumbrance\": 24440, \"expenditure\": 8648, \"fund use type\": \" expenditure % used\", \"percent\": 3.7}, {\"total_percent_fund_used\": 12.0, \"fund name / fund code\": \"FEL B F JUV / felbfjuv\", \"appropriation\": 212383, \"encumbrance\": 14679, \"expenditure\": 10810, \"fund use type\": \" expenditure % used\", \"percent\": 5.09}, {\"total_percent_fund_used\": 31.15, \"fund name / fund code\": \"FEL B R ADU / felbradu\", \"appropriation\": 1754906, \"encumbrance\": 296904, \"expenditure\": 249807, \"fund use type\": \" expenditure % used\", \"percent\": 14.23}, {\"total_percent_fund_used\": 30.84, \"fund name / fund code\": \"GEN A F ADU / genafadu\", \"appropriation\": 8482970, \"encumbrance\": 1880766, \"expenditure\": 735117, \"fund use type\": \" expenditure % used\", \"percent\": 8.67}, {\"total_percent_fund_used\": 11.23, \"fund name / fund code\": \"GEN A F CLT / genafclt\", \"appropriation\": 903415, \"encumbrance\": 19131, \"expenditure\": 82359, \"fund use type\": \" expenditure % used\", \"percent\": 9.12}, {\"total_percent_fund_used\": 4.61, \"fund name / fund code\": \"GEN A F JUV / genafjuv\", \"appropriation\": 2615219, \"encumbrance\": 84883, \"expenditure\": 35613, \"fund use type\": \" expenditure % used\", \"percent\": 1.36}, {\"total_percent_fund_used\": 22.27, \"fund name / fund code\": \"GEN A R ADU / genaradu\", \"appropriation\": 4466286, \"encumbrance\": 920972, \"expenditure\": 73778, \"fund use type\": \" expenditure % used\", \"percent\": 1.65}, {\"total_percent_fund_used\": 21.48, \"fund name / fund code\": \"GEN B F ADU / genbfadu\", \"appropriation\": 76302211, \"encumbrance\": 9757764, \"expenditure\": 6630078, \"fund use type\": \" expenditure % used\", \"percent\": 8.69}, {\"total_percent_fund_used\": 20.59, \"fund name / fund code\": \"GEN B F CLT / genbfclt\", \"appropriation\": 21308364, \"encumbrance\": 3584084, \"expenditure\": 803873, \"fund use type\": \" expenditure % used\", \"percent\": 3.77}, {\"total_percent_fund_used\": 29.12, \"fund name / fund code\": \"GEN B F JUV / genbfjuv\", \"appropriation\": 159466438, \"encumbrance\": 34059018, \"expenditure\": 12385241, \"fund use type\": \" expenditure % used\", \"percent\": 7.77}, {\"total_percent_fund_used\": 6.8, \"fund name / fund code\": \"GEN B R ADU / genbradu\", \"appropriation\": 7442846, \"encumbrance\": 339063, \"expenditure\": 167291, \"fund use type\": \" expenditure % used\", \"percent\": 2.25}, {\"total_percent_fund_used\": 30.9, \"fund name / fund code\": \"GEN B R CLT / genbrclt\", \"appropriation\": 7571424, \"encumbrance\": 1470867, \"expenditure\": 868535, \"fund use type\": \" expenditure % used\", \"percent\": 11.47}, {\"total_percent_fund_used\": 49.87, \"fund name / fund code\": \"GEN B R JUV / genbrjuv\", \"appropriation\": 398960, \"encumbrance\": 198960, \"expenditure\": 0, \"fund use type\": \" expenditure % used\", \"percent\": 0.0}, {\"total_percent_fund_used\": 17.05, \"fund name / fund code\": \"GEN E R DBK / generdbk\", \"appropriation\": 107203004, \"encumbrance\": 5804915, \"expenditure\": 12476956, \"fund use type\": \" expenditure % used\", \"percent\": 11.64}, {\"total_percent_fund_used\": 100.0, \"fund name / fund code\": \"GEN E R DMU / generdmu\", \"appropriation\": 26500000, \"encumbrance\": 0, \"expenditure\": 26500000, \"fund use type\": \" expenditure % used\", \"percent\": 100.0}, {\"total_percent_fund_used\": 17.04, \"fund name / fund code\": \"GEN E R EBK / generebk\", \"appropriation\": 176857104, \"encumbrance\": 9004937, \"expenditure\": 21138147, \"fund use type\": \" expenditure % used\", \"percent\": 11.95}, {\"total_percent_fund_used\": 14.89, \"fund name / fund code\": \"GEN E R WEB / generweb\", \"appropriation\": 157000000, \"encumbrance\": 7932582, \"expenditure\": 15443425, \"fund use type\": \" expenditure % used\", \"percent\": 9.84}, {\"total_percent_fund_used\": 18.82, \"fund name / fund code\": \"GEN P R ADU / genpradu\", \"appropriation\": 46651999, \"encumbrance\": 8460488, \"expenditure\": 321456, \"fund use type\": \" expenditure % used\", \"percent\": 0.69}, {\"total_percent_fund_used\": 10.9, \"fund name / fund code\": \"GIF B F ADU / gifbfadu\", \"appropriation\": 269917, \"encumbrance\": 2383, \"expenditure\": 27025, \"fund use type\": \" expenditure % used\", \"percent\": 10.01}, {\"total_percent_fund_used\": 0.0, \"fund name / fund code\": \"GIF B F CLT / gifbfclt\", \"appropriation\": 20000, \"encumbrance\": 0, \"expenditure\": 0, \"fund use type\": \" expenditure % used\", \"percent\": 0.0}, {\"total_percent_fund_used\": 2.17, \"fund name / fund code\": \"GIF B F JUV / gifbfjuv\", \"appropriation\": 245722, \"encumbrance\": 738, \"expenditure\": 4599, \"fund use type\": \" expenditure % used\", \"percent\": 1.87}, {\"total_percent_fund_used\": 100.0, \"fund name / fund code\": \"GLU B F IRF / glubfirf\", \"appropriation\": 2691, \"encumbrance\": 2691, \"expenditure\": 0, \"fund use type\": \" expenditure % used\", \"percent\": 0.0}, {\"total_percent_fund_used\": 0.0, \"fund name / fund code\": \"GOL B F CLC / golbfclc\", \"appropriation\": 100000, \"encumbrance\": 0, \"expenditure\": 0, \"fund use type\": \" expenditure % used\", \"percent\": 0.0}, {\"total_percent_fund_used\": 7.85, \"fund name / fund code\": \"HOW B F ADU / howbfadu\", \"appropriation\": 1330083, \"encumbrance\": 33341, \"expenditure\": 71025, \"fund use type\": \" expenditure % used\", \"percent\": 5.34}, {\"total_percent_fund_used\": 10.64, \"fund name / fund code\": \"HOW B F JUV / howbfjuv\", \"appropriation\": 1340124, \"encumbrance\": 74224, \"expenditure\": 68392, \"fund use type\": \" expenditure % used\", \"percent\": 5.1}, {\"total_percent_fund_used\": 0.0, \"fund name / fund code\": \"SAC B F GEN / sacbfgen\", \"appropriation\": 1250000, \"encumbrance\": 0, \"expenditure\": 0, \"fund use type\": \" expenditure % used\", \"percent\": 0.0}, {\"total_percent_fund_used\": 0.0, \"fund name / fund code\": \"SAC B F IRF / sacbfirf\", \"appropriation\": 1250000, \"encumbrance\": 0, \"expenditure\": 0, \"fund use type\": \" expenditure % used\", \"percent\": 0.0}, {\"total_percent_fund_used\": 0.0, \"fund name / fund code\": \"TAR B F ADU / tarbfadu\", \"appropriation\": 100000, \"encumbrance\": 0, \"expenditure\": 0, \"fund use type\": \" expenditure % used\", \"percent\": 0.0}, {\"total_percent_fund_used\": 0.0, \"fund name / fund code\": \"SCO B F ADU / trgbfadu\", \"appropriation\": 100000, \"encumbrance\": 0, \"expenditure\": 0, \"fund use type\": \" expenditure % used\", \"percent\": 0.0}, {\"total_percent_fund_used\": 0.0, \"fund name / fund code\": \"FEL E R EBK / huebfadu\", \"appropriation\": 100000, \"encumbrance\": 0, \"expenditure\": 0, \"fund use type\": \" expenditure % used\", \"percent\": 0.0}, {\"total_percent_fund_used\": 23.61, \"fund name / fund code\": \" / genbrfic\", \"appropriation\": 79466386, \"encumbrance\": 16715216, \"expenditure\": 2044272, \"fund use type\": \" expenditure % used\", \"percent\": 2.57}, {\"total_percent_fund_used\": 22.5, \"fund name / fund code\": \" / genbffic\", \"appropriation\": 85108533, \"encumbrance\": 13514345, \"expenditure\": 5635099, \"fund use type\": \" expenditure % used\", \"percent\": 6.62}, {\"total_percent_fund_used\": 0.0, \"fund name / fund code\": \"GEN A F ADM / lmebfadu\", \"appropriation\": 100000, \"encumbrance\": 0, \"expenditure\": 0, \"fund use type\": \" expenditure % used\", \"percent\": 0.0}, {\"total_percent_fund_used\": 34.13, \"fund name / fund code\": \"GEN A F ADM / felerebk\", \"appropriation\": 400000, \"encumbrance\": 65863, \"expenditure\": 70642, \"fund use type\": \" expenditure % used\", \"percent\": 17.66}, {\"total_percent_fund_used\": 80.0, \"fund name / fund code\": \"GEN A F ADM / generper\", \"appropriation\": 10000000, \"encumbrance\": 0, \"expenditure\": 8000000, \"fund use type\": \" expenditure % used\", \"percent\": 80.0}, {\"total_percent_fund_used\": 26.04, \"fund name / fund code\": \"GEN A F ADM / genarvam\", \"appropriation\": 46649598, \"encumbrance\": 7545417, \"expenditure\": 4601046, \"fund use type\": \" expenditure % used\", \"percent\": 9.86}, {\"total_percent_fund_used\": 25.1, \"fund name / fund code\": \"GEN A F ADM / genafvam\", \"appropriation\": 40153049, \"encumbrance\": 6967510, \"expenditure\": 3110327, \"fund use type\": \" expenditure % used\", \"percent\": 7.75}, {\"total_percent_fund_used\": 26.23, \"fund name / fund code\": \"GEN A F ADM / genbfxlp\", \"appropriation\": 19020673, \"encumbrance\": 3494244, \"expenditure\": 1494142, \"fund use type\": \" expenditure % used\", \"percent\": 7.86}, {\"total_percent_fund_used\": 17.82, \"fund name / fund code\": \"GEN A F ADM / genbfxnf\", \"appropriation\": 5648783, \"encumbrance\": 730419, \"expenditure\": 276308, \"fund use type\": \" expenditure % used\", \"percent\": 4.89}, {\"total_percent_fund_used\": 0.0, \"fund name / fund code\": \"GEN A F ADM / htfbfadu\", \"appropriation\": 100000, \"encumbrance\": 0, \"expenditure\": 0, \"fund use type\": \" expenditure % used\", \"percent\": 0.0}, {\"total_percent_fund_used\": 0.0, \"fund name / fund code\": \"GEN A F ADM / obrbfand\", \"appropriation\": 100000, \"encumbrance\": 0, \"expenditure\": 0, \"fund use type\": \" expenditure % used\", \"percent\": 0.0}, {\"total_percent_fund_used\": 0.0, \"fund name / fund code\": \"ABE B F GEN / abebfgen\", \"appropriation\": 200000, \"encumbrance\": 0, \"expenditure\": 0, \"fund use type\": \"encumbrance % used\", \"percent\": 0.0}, {\"total_percent_fund_used\": 17.76, \"fund name / fund code\": \"AND B F AND / andbfand\", \"appropriation\": 99739, \"encumbrance\": 13671, \"expenditure\": 4039, \"fund use type\": \"encumbrance % used\", \"percent\": 13.71}, {\"total_percent_fund_used\": 0.0, \"fund name / fund code\": \"DWY B F OUT / dwybfout\", \"appropriation\": 200000, \"encumbrance\": 0, \"expenditure\": 0, \"fund use type\": \"encumbrance % used\", \"percent\": 0.0}, {\"total_percent_fund_used\": 14.17, \"fund name / fund code\": \"FEL B F ADU / felbfadu\", \"appropriation\": 233528, \"encumbrance\": 24440, \"expenditure\": 8648, \"fund use type\": \"encumbrance % used\", \"percent\": 10.47}, {\"total_percent_fund_used\": 12.0, \"fund name / fund code\": \"FEL B F JUV / felbfjuv\", \"appropriation\": 212383, \"encumbrance\": 14679, \"expenditure\": 10810, \"fund use type\": \"encumbrance % used\", \"percent\": 6.91}, {\"total_percent_fund_used\": 31.15, \"fund name / fund code\": \"FEL B R ADU / felbradu\", \"appropriation\": 1754906, \"encumbrance\": 296904, \"expenditure\": 249807, \"fund use type\": \"encumbrance % used\", \"percent\": 16.92}, {\"total_percent_fund_used\": 30.84, \"fund name / fund code\": \"GEN A F ADU / genafadu\", \"appropriation\": 8482970, \"encumbrance\": 1880766, \"expenditure\": 735117, \"fund use type\": \"encumbrance % used\", \"percent\": 22.17}, {\"total_percent_fund_used\": 11.23, \"fund name / fund code\": \"GEN A F CLT / genafclt\", \"appropriation\": 903415, \"encumbrance\": 19131, \"expenditure\": 82359, \"fund use type\": \"encumbrance % used\", \"percent\": 2.12}, {\"total_percent_fund_used\": 4.61, \"fund name / fund code\": \"GEN A F JUV / genafjuv\", \"appropriation\": 2615219, \"encumbrance\": 84883, \"expenditure\": 35613, \"fund use type\": \"encumbrance % used\", \"percent\": 3.25}, {\"total_percent_fund_used\": 22.27, \"fund name / fund code\": \"GEN A R ADU / genaradu\", \"appropriation\": 4466286, \"encumbrance\": 920972, \"expenditure\": 73778, \"fund use type\": \"encumbrance % used\", \"percent\": 20.62}, {\"total_percent_fund_used\": 21.48, \"fund name / fund code\": \"GEN B F ADU / genbfadu\", \"appropriation\": 76302211, \"encumbrance\": 9757764, \"expenditure\": 6630078, \"fund use type\": \"encumbrance % used\", \"percent\": 12.79}, {\"total_percent_fund_used\": 20.59, \"fund name / fund code\": \"GEN B F CLT / genbfclt\", \"appropriation\": 21308364, \"encumbrance\": 3584084, \"expenditure\": 803873, \"fund use type\": \"encumbrance % used\", \"percent\": 16.82}, {\"total_percent_fund_used\": 29.12, \"fund name / fund code\": \"GEN B F JUV / genbfjuv\", \"appropriation\": 159466438, \"encumbrance\": 34059018, \"expenditure\": 12385241, \"fund use type\": \"encumbrance % used\", \"percent\": 21.36}, {\"total_percent_fund_used\": 6.8, \"fund name / fund code\": \"GEN B R ADU / genbradu\", \"appropriation\": 7442846, \"encumbrance\": 339063, \"expenditure\": 167291, \"fund use type\": \"encumbrance % used\", \"percent\": 4.56}, {\"total_percent_fund_used\": 30.9, \"fund name / fund code\": \"GEN B R CLT / genbrclt\", \"appropriation\": 7571424, \"encumbrance\": 1470867, \"expenditure\": 868535, \"fund use type\": \"encumbrance % used\", \"percent\": 19.43}, {\"total_percent_fund_used\": 49.87, \"fund name / fund code\": \"GEN B R JUV / genbrjuv\", \"appropriation\": 398960, \"encumbrance\": 198960, \"expenditure\": 0, \"fund use type\": \"encumbrance % used\", \"percent\": 49.87}, {\"total_percent_fund_used\": 17.05, \"fund name / fund code\": \"GEN E R DBK / generdbk\", \"appropriation\": 107203004, \"encumbrance\": 5804915, \"expenditure\": 12476956, \"fund use type\": \"encumbrance % used\", \"percent\": 5.41}, {\"total_percent_fund_used\": 100.0, \"fund name / fund code\": \"GEN E R DMU / generdmu\", \"appropriation\": 26500000, \"encumbrance\": 0, \"expenditure\": 26500000, \"fund use type\": \"encumbrance % used\", \"percent\": 0.0}, {\"total_percent_fund_used\": 17.04, \"fund name / fund code\": \"GEN E R EBK / generebk\", \"appropriation\": 176857104, \"encumbrance\": 9004937, \"expenditure\": 21138147, \"fund use type\": \"encumbrance % used\", \"percent\": 5.09}, {\"total_percent_fund_used\": 14.89, \"fund name / fund code\": \"GEN E R WEB / generweb\", \"appropriation\": 157000000, \"encumbrance\": 7932582, \"expenditure\": 15443425, \"fund use type\": \"encumbrance % used\", \"percent\": 5.05}, {\"total_percent_fund_used\": 18.82, \"fund name / fund code\": \"GEN P R ADU / genpradu\", \"appropriation\": 46651999, \"encumbrance\": 8460488, \"expenditure\": 321456, \"fund use type\": \"encumbrance % used\", \"percent\": 18.14}, {\"total_percent_fund_used\": 10.9, \"fund name / fund code\": \"GIF B F ADU / gifbfadu\", \"appropriation\": 269917, \"encumbrance\": 2383, \"expenditure\": 27025, \"fund use type\": \"encumbrance % used\", \"percent\": 0.88}, {\"total_percent_fund_used\": 0.0, \"fund name / fund code\": \"GIF B F CLT / gifbfclt\", \"appropriation\": 20000, \"encumbrance\": 0, \"expenditure\": 0, \"fund use type\": \"encumbrance % used\", \"percent\": 0.0}, {\"total_percent_fund_used\": 2.17, \"fund name / fund code\": \"GIF B F JUV / gifbfjuv\", \"appropriation\": 245722, \"encumbrance\": 738, \"expenditure\": 4599, \"fund use type\": \"encumbrance % used\", \"percent\": 0.3}, {\"total_percent_fund_used\": 100.0, \"fund name / fund code\": \"GLU B F IRF / glubfirf\", \"appropriation\": 2691, \"encumbrance\": 2691, \"expenditure\": 0, \"fund use type\": \"encumbrance % used\", \"percent\": 100.0}, {\"total_percent_fund_used\": 0.0, \"fund name / fund code\": \"GOL B F CLC / golbfclc\", \"appropriation\": 100000, \"encumbrance\": 0, \"expenditure\": 0, \"fund use type\": \"encumbrance % used\", \"percent\": 0.0}, {\"total_percent_fund_used\": 7.85, \"fund name / fund code\": \"HOW B F ADU / howbfadu\", \"appropriation\": 1330083, \"encumbrance\": 33341, \"expenditure\": 71025, \"fund use type\": \"encumbrance % used\", \"percent\": 2.51}, {\"total_percent_fund_used\": 10.64, \"fund name / fund code\": \"HOW B F JUV / howbfjuv\", \"appropriation\": 1340124, \"encumbrance\": 74224, \"expenditure\": 68392, \"fund use type\": \"encumbrance % used\", \"percent\": 5.54}, {\"total_percent_fund_used\": 0.0, \"fund name / fund code\": \"SAC B F GEN / sacbfgen\", \"appropriation\": 1250000, \"encumbrance\": 0, \"expenditure\": 0, \"fund use type\": \"encumbrance % used\", \"percent\": 0.0}, {\"total_percent_fund_used\": 0.0, \"fund name / fund code\": \"SAC B F IRF / sacbfirf\", \"appropriation\": 1250000, \"encumbrance\": 0, \"expenditure\": 0, \"fund use type\": \"encumbrance % used\", \"percent\": 0.0}, {\"total_percent_fund_used\": 0.0, \"fund name / fund code\": \"TAR B F ADU / tarbfadu\", \"appropriation\": 100000, \"encumbrance\": 0, \"expenditure\": 0, \"fund use type\": \"encumbrance % used\", \"percent\": 0.0}, {\"total_percent_fund_used\": 0.0, \"fund name / fund code\": \"SCO B F ADU / trgbfadu\", \"appropriation\": 100000, \"encumbrance\": 0, \"expenditure\": 0, \"fund use type\": \"encumbrance % used\", \"percent\": 0.0}, {\"total_percent_fund_used\": 0.0, \"fund name / fund code\": \"FEL E R EBK / huebfadu\", \"appropriation\": 100000, \"encumbrance\": 0, \"expenditure\": 0, \"fund use type\": \"encumbrance % used\", \"percent\": 0.0}, {\"total_percent_fund_used\": 23.61, \"fund name / fund code\": \" / genbrfic\", \"appropriation\": 79466386, \"encumbrance\": 16715216, \"expenditure\": 2044272, \"fund use type\": \"encumbrance % used\", \"percent\": 21.03}, {\"total_percent_fund_used\": 22.5, \"fund name / fund code\": \" / genbffic\", \"appropriation\": 85108533, \"encumbrance\": 13514345, \"expenditure\": 5635099, \"fund use type\": \"encumbrance % used\", \"percent\": 15.88}, {\"total_percent_fund_used\": 0.0, \"fund name / fund code\": \"GEN A F ADM / lmebfadu\", \"appropriation\": 100000, \"encumbrance\": 0, \"expenditure\": 0, \"fund use type\": \"encumbrance % used\", \"percent\": 0.0}, {\"total_percent_fund_used\": 34.13, \"fund name / fund code\": \"GEN A F ADM / felerebk\", \"appropriation\": 400000, \"encumbrance\": 65863, \"expenditure\": 70642, \"fund use type\": \"encumbrance % used\", \"percent\": 16.47}, {\"total_percent_fund_used\": 80.0, \"fund name / fund code\": \"GEN A F ADM / generper\", \"appropriation\": 10000000, \"encumbrance\": 0, \"expenditure\": 8000000, \"fund use type\": \"encumbrance % used\", \"percent\": 0.0}, {\"total_percent_fund_used\": 26.04, \"fund name / fund code\": \"GEN A F ADM / genarvam\", \"appropriation\": 46649598, \"encumbrance\": 7545417, \"expenditure\": 4601046, \"fund use type\": \"encumbrance % used\", \"percent\": 16.17}, {\"total_percent_fund_used\": 25.1, \"fund name / fund code\": \"GEN A F ADM / genafvam\", \"appropriation\": 40153049, \"encumbrance\": 6967510, \"expenditure\": 3110327, \"fund use type\": \"encumbrance % used\", \"percent\": 17.35}, {\"total_percent_fund_used\": 26.23, \"fund name / fund code\": \"GEN A F ADM / genbfxlp\", \"appropriation\": 19020673, \"encumbrance\": 3494244, \"expenditure\": 1494142, \"fund use type\": \"encumbrance % used\", \"percent\": 18.37}, {\"total_percent_fund_used\": 17.82, \"fund name / fund code\": \"GEN A F ADM / genbfxnf\", \"appropriation\": 5648783, \"encumbrance\": 730419, \"expenditure\": 276308, \"fund use type\": \"encumbrance % used\", \"percent\": 12.93}, {\"total_percent_fund_used\": 0.0, \"fund name / fund code\": \"GEN A F ADM / htfbfadu\", \"appropriation\": 100000, \"encumbrance\": 0, \"expenditure\": 0, \"fund use type\": \"encumbrance % used\", \"percent\": 0.0}, {\"total_percent_fund_used\": 0.0, \"fund name / fund code\": \"GEN A F ADM / obrbfand\", \"appropriation\": 100000, \"encumbrance\": 0, \"expenditure\": 0, \"fund use type\": \"encumbrance % used\", \"percent\": 0.0}]}};\n",
       "      var embedOpt = {\"mode\": \"vega-lite\"};\n",
       "\n",
       "      function showError(el, error){\n",
       "          el.innerHTML = ('<div class=\"error\" style=\"color:red;\">'\n",
       "                          + '<p>JavaScript Error: ' + error.message + '</p>'\n",
       "                          + \"<p>This usually means there's a typo in your chart specification. \"\n",
       "                          + \"See the javascript console for the full traceback.</p>\"\n",
       "                          + '</div>');\n",
       "          throw error;\n",
       "      }\n",
       "      const el = document.getElementById('vis');\n",
       "      vegaEmbed(\"#vis\", spec, embedOpt)\n",
       "        .catch(error => showError(el, error));\n",
       "    })(vegaEmbed);\n",
       "\n",
       "  </script>\n",
       "</body>\n",
       "</html>"
      ],
      "text/plain": [
       "<IPython.core.display.HTML object>"
      ]
     },
     "execution_count": 9,
     "metadata": {},
     "output_type": "execute_result"
    }
   ],
   "source": [
    "\n",
    "engine = create_engine('sqlite:///current_orders.db')\n",
    "\n",
    "sql = \"\"\"\\\n",
    "SELECT\n",
    "ifnull(round(\n",
    "    ((fund.expenditure + fund.encumbrance)*1.0 / (NULLIF(appropriation, 0) * 1.0))*100.0,\n",
    "    2\n",
    "), 0) as total_percent_fund_used,\n",
    "ifnull(round(\n",
    "    ((fund.expenditure)*1.0 / (NULLIF(appropriation, 0) * 1.0))*100.0,\n",
    "    2\n",
    "), 0) as \" expenditure % used\",\n",
    "ifnull(round(\n",
    "    ((fund.encumbrance)*1.0 / (NULLIF(appropriation, 0) * 1.0))*100.0,\n",
    "    2\n",
    "), 0) as \"encumbrance % used\",\n",
    "coalesce(external_fund_name, '') \n",
    "    || ' / ' \n",
    "    || coalesce(fund_code, '') as \"fund name / fund code\",\n",
    "fund_code,\n",
    "appropriation,\n",
    "encumbrance,\n",
    "expenditure\n",
    "-- *\n",
    "FROM\n",
    "fund\n",
    "WHERE\n",
    "fund.fund_type = 'fbal'\n",
    "AND appropriation > 0\n",
    "-- ORDER BY percent_fund_used DESC\n",
    "\"\"\"\n",
    "\n",
    "df = pd.read_sql(sql=sql, con=engine)\n",
    "# df.head()\n",
    "\n",
    "# melt \"expenditure_percent_fund_used\" \"encumbrance_percent_fund_used\" into \"fund use type\" ...\n",
    "out_df = df.melt(\n",
    "    id_vars=[\"total_percent_fund_used\", \"fund name / fund code\", \"appropriation\", \"encumbrance\", \"expenditure\"],  \n",
    "    value_vars=[\" expenditure % used\", \"encumbrance % used\"],\n",
    "    var_name=\"fund use type\", \n",
    "    value_name=\"percent\"\n",
    ")\n",
    "\n",
    "out_df.head()\n",
    "\n",
    "# place the chart into a variable\n",
    "chart = alt.Chart(out_df).mark_bar().encode(    \n",
    "    x=alt.X('percent',),\n",
    "    y=alt.Y('fund name / fund code', sort='-x'),\n",
    "    color='fund use type',\n",
    "    tooltip=['total_percent_fund_used', 'fund name / fund code', 'appropriation', 'encumbrance', 'expenditure', 'fund use type', 'percent']\n",
    "    # tooltip=['percent_fund_used', 'fund_name', 'fund_code', 'appropriation', 'encumbrance', 'expenditure']\n",
    "    # tooltip=['transaction_date', 'transaction_location_code', 'op_name', 'count'],\n",
    "    #color='op_name'\n",
    ").properties(\n",
    "    title = 'Fund Use ( as of {} )'.format(pd.Timestamp('now').strftime('%Y-%m-%d %I:00 %p'))\n",
    "    #title='Total Checkouts Per Location - {}'.format(search_date)\n",
    ").configure_title(\n",
    "    # fontSize=20,\n",
    "    # anchor='start',\n",
    ")\n",
    "\n",
    "# display the chart\n",
    "chart.save('output.html')\n",
    "HTML('output.html')"
   ]
  }
 ],
 "metadata": {
  "kernelspec": {
   "display_name": "Python 3 (ipykernel)",
   "language": "python",
   "name": "python3"
  },
  "language_info": {
   "codemirror_mode": {
    "name": "ipython",
    "version": 3
   },
   "file_extension": ".py",
   "mimetype": "text/x-python",
   "name": "python",
   "nbconvert_exporter": "python",
   "pygments_lexer": "ipython3",
   "version": "3.7.3"
  }
 },
 "nbformat": 4,
 "nbformat_minor": 5
}
